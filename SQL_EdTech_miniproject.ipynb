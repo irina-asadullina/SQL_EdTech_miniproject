{
 "cells": [
  {
   "cell_type": "markdown",
   "id": "a1ab8a34-51d6-47b6-94fb-c65a8a41c8a1",
   "metadata": {},
   "source": [
    "### SQL-запросы к базе данных EdTech-приложения"
   ]
  },
  {
   "cell_type": "markdown",
   "id": "080a67f6-692e-446b-a2aa-7d85ca900089",
   "metadata": {},
   "source": [
    "Образовательные курсы нашего приложения состоят из различных уроков, каждый из которых состоит из нескольких маленьких заданий. Каждое такое маленькое задание называется \"горошиной\".\n",
    "\n",
    "Необходимо написать оптимальный запрос, который даст информацию о количестве очень усердных студентов (под усердным студентом мы понимаем студента, который хотя бы раз за текущий месяц правильно решил 20 задач).\n",
    "\n",
    "В этом контексте нужно понять, имеется ли в виду решил ли человек вообще за весь месяц 20 и более горошин, либо в разбивке по предметам (и \"хотя бы раз\" в данном случае будет именно про то, что студент по одному из предметов решил 20 горошин. Вряд ли можно считать очень усердными тех студентов, которые по каждому предмету решили по, скажем, 3-5 горошин, набрав в сумме за месяц 20. Это если отталкиваться от логики. Если же отталкиваться лишь от поставленного ТЗ, то такой студент, конечно, тоже очень усердный. В любом случае, предоставляю решение в двух вариантах: с разбивкой по предметам и без нее.\n",
    "\n",
    "Первое – без разбивки.\n",
    "\n",
    "~~~~sql\n",
    "SELECT \n",
    "    DATE_PART('year', pea_month)::INT AS year, \n",
    "    TO_CHAR(pea_month, 'Month') AS month,\n",
    "    COUNT(DISTINCT st_id) AS hardworking_students\n",
    "  FROM\n",
    "    (SELECT\n",
    "        DATE_TRUNC('month', timest)::DATE AS pea_month, st_id, COUNT(correct) AS correct_peas\n",
    "       FROM peas\n",
    "      WHERE correct = true\n",
    "      GROUP BY pea_month, st_id) t1\n",
    " WHERE correct_peas >= 20\n",
    " GROUP BY pea_month\n",
    " ORDER BY 1, 2\n",
    "~~~~"
   ]
  },
  {
   "cell_type": "code",
   "execution_count": 6,
   "id": "35d0ea3c-43d2-41d7-876a-5c363be91e8b",
   "metadata": {},
   "outputs": [],
   "source": [
    "import pandas as pd\n",
    "import requests"
   ]
  },
  {
   "cell_type": "code",
   "execution_count": 8,
   "id": "13155dae-4c83-417b-bf32-e910041f6e22",
   "metadata": {},
   "outputs": [
    {
     "data": {
      "text/html": [
       "<div>\n",
       "<style scoped>\n",
       "    .dataframe tbody tr th:only-of-type {\n",
       "        vertical-align: middle;\n",
       "    }\n",
       "\n",
       "    .dataframe tbody tr th {\n",
       "        vertical-align: top;\n",
       "    }\n",
       "\n",
       "    .dataframe thead th {\n",
       "        text-align: right;\n",
       "    }\n",
       "</style>\n",
       "<table border=\"1\" class=\"dataframe\">\n",
       "  <thead>\n",
       "    <tr style=\"text-align: right;\">\n",
       "      <th></th>\n",
       "      <th>year</th>\n",
       "      <th>month</th>\n",
       "      <th>hardworking_students</th>\n",
       "    </tr>\n",
       "  </thead>\n",
       "  <tbody>\n",
       "    <tr>\n",
       "      <th>0</th>\n",
       "      <td>2021</td>\n",
       "      <td>October</td>\n",
       "      <td>136</td>\n",
       "    </tr>\n",
       "  </tbody>\n",
       "</table>\n",
       "</div>"
      ],
      "text/plain": [
       "   year      month  hardworking_students\n",
       "0  2021  October                     136"
      ]
     },
     "metadata": {},
     "output_type": "display_data"
    }
   ],
   "source": [
    "# importing query results from Redash with API\n",
    "\n",
    "def redash_results(query_id):\n",
    "    \n",
    "    api_key = 'mzH6hFnPt8NoZVKREXaTok8VSE35rza4fQf1pqp4'\n",
    "    \n",
    "    redash_url = 'https://redash.lab.karpov.courses/api/queries/{}/results.json'.format(query_id)\n",
    "\n",
    "    headers = {'Authorization': f'Key {api_key}'}\n",
    "\n",
    "    response = requests.get(redash_url, headers = headers)\n",
    "\n",
    "    if response.status_code == 200:\n",
    "        data = response.json()\n",
    "        results = data['query_result']['data']['rows']\n",
    "        result = display(pd.DataFrame(results))\n",
    "    else:\n",
    "        result = print(f'Ошибка при получении данных: {response.status_code} - {response.text}')\n",
    "    \n",
    "    return result\n",
    "\n",
    "redash_results(55879)"
   ]
  },
  {
   "cell_type": "markdown",
   "id": "c47b7229-4a2d-44c1-9aab-f1aa3c30f1e4",
   "metadata": {},
   "source": [
    "Второе – с разбивкой по предметам (возьмем, к примеру, студента с айди 4557: он решил за месяц 19 горошин по статистике, 8 – по теории вероятностей и 17 по Python. В сумме у него, конечно, наберется 20 горошин, но по отдельности за каждый предмет он ни разу не решил правильно 20 задачек. В связи с этим из общего количества усердных студентов такой студент выпадет.)\n",
    "\n",
    "\n",
    "~~~~sql\n",
    " SELECT \n",
    "    DATE_PART('year', pea_month)::INT AS year, \n",
    "    TO_CHAR(pea_month, 'Month') AS month, \n",
    "    COUNT(DISTINCT st_id) AS hardworking_students\n",
    " FROM\n",
    "    (SELECT \n",
    "        DATE_TRUNC('month', timest)::DATE AS pea_month, \n",
    "        st_id, subject, \n",
    "        COUNT(correct) AS correct_peas\n",
    "    FROM peas\n",
    "    WHERE correct = true\n",
    "    GROUP BY pea_month, st_id, subject) t2\n",
    " WHERE correct_peas >= 20\n",
    " GROUP BY pea_month\n",
    "~~~~"
   ]
  },
  {
   "cell_type": "code",
   "execution_count": 12,
   "id": "511480a3-a26a-4003-9955-5816835c0c15",
   "metadata": {},
   "outputs": [
    {
     "data": {
      "text/html": [
       "<div>\n",
       "<style scoped>\n",
       "    .dataframe tbody tr th:only-of-type {\n",
       "        vertical-align: middle;\n",
       "    }\n",
       "\n",
       "    .dataframe tbody tr th {\n",
       "        vertical-align: top;\n",
       "    }\n",
       "\n",
       "    .dataframe thead th {\n",
       "        text-align: right;\n",
       "    }\n",
       "</style>\n",
       "<table border=\"1\" class=\"dataframe\">\n",
       "  <thead>\n",
       "    <tr style=\"text-align: right;\">\n",
       "      <th></th>\n",
       "      <th>year</th>\n",
       "      <th>month</th>\n",
       "      <th>hardworking_students</th>\n",
       "    </tr>\n",
       "  </thead>\n",
       "  <tbody>\n",
       "    <tr>\n",
       "      <th>0</th>\n",
       "      <td>2021</td>\n",
       "      <td>October</td>\n",
       "      <td>78</td>\n",
       "    </tr>\n",
       "  </tbody>\n",
       "</table>\n",
       "</div>"
      ],
      "text/plain": [
       "   year      month  hardworking_students\n",
       "0  2021  October                      78"
      ]
     },
     "metadata": {},
     "output_type": "display_data"
    }
   ],
   "source": [
    "# importing query results from Redash\n",
    "\n",
    "redash_results(55907)"
   ]
  },
  {
   "cell_type": "markdown",
   "id": "ce69fbf1-8ba3-4fe4-90d2-b3a8df367db3",
   "metadata": {},
   "source": [
    "Наша образовательная платформа предлагает пройти студентам курсы по модели trial: студент может решить бесплатно лишь 30 горошин в день. Для неограниченного количества заданий в определенной дисциплине студенту необходимо приобрести полный доступ. Команда провела эксперимент, где был протестирован новый экран оплаты.\n",
    "\n",
    "Необходимо в одном запросе выгрузить следующую информацию о группах пользователей:\n",
    "\n",
    "- ARPU (считается относительно всех пользователей, попавших в группы)\n",
    "- ARPAU \n",
    "- CR в покупку \n",
    "- СR активного пользователя в покупку \n",
    "- CR пользователя из активности по математике (subject = ’math’) в покупку курса по математике\n",
    "\n",
    "Активным считается пользователь, за все время решивший больше 10 задач правильно в любых дисциплинах.\n",
    "Активным по математике считается пользователь, за все время правильно решивший 2 или больше задач по математике.\n",
    "\n",
    "~~~~sql\n",
    "\n",
    "WITH active_students AS \n",
    "(\n",
    "SELECT st_id\n",
    "  FROM peas\n",
    " WHERE correct = true\n",
    " GROUP BY st_id\n",
    "HAVING COUNT(correct) > 10\n",
    "),\n",
    "active_math_students AS \n",
    "(\n",
    "SELECT st_id\n",
    "  FROM peas\n",
    " WHERE correct = true AND subject = 'Math'\n",
    " GROUP BY st_id\n",
    "HAVING COUNT(correct) >= 2\n",
    ") \n",
    "\n",
    "SELECT\n",
    "    test_grp,\n",
    "    \n",
    "    SUM(money) / COUNT(DISTINCT st_id) AS ARPPU,\n",
    "    \n",
    "    SUM(money) / COUNT(DISTINCT st_id) FILTER (WHERE st_id IN (SELECT * \n",
    "                                                                 FROM active_students)) AS ARPAU,\n",
    "                                                                 \n",
    "    COUNT(DISTINCT st_id) FILTER (WHERE sale_time IS NOT NULL) \n",
    "        / COUNT(DISTINCT st_id)::decimal AS CR,\n",
    "        \n",
    "    COUNT(DISTINCT st_id) FILTER (WHERE sale_time IS NOT NULL \n",
    "                                      AND st_id IN (SELECT *\n",
    "                                                    FROM active_students)) \n",
    "        / COUNT(DISTINCT st_id) FILTER (WHERE st_id IN (SELECT *\n",
    "                                                          FROM active_students))::decimal AS CR_active,\n",
    "                                                          \n",
    "    COUNT(DISTINCT st_id) FILTER (WHERE sale_time IS NOT NULL \n",
    "                                      AND st_id IN (SELECT *\n",
    "                                                    FROM active_math_students) AND subject = 'Math') \n",
    "        / COUNT(DISTINCT st_id) FILTER (WHERE st_id IN (SELECT *\n",
    "                                                          FROM active_math_students))::decimal AS CR_math_active\n",
    "FROM studs \n",
    "LEFT JOIN final_project_check USING(st_id)\n",
    "GROUP BY test_grp\n",
    "~~~~"
   ]
  },
  {
   "cell_type": "code",
   "execution_count": 13,
   "id": "8ac2b642-8a87-4bb1-be94-e0f90bdf6ca0",
   "metadata": {},
   "outputs": [
    {
     "data": {
      "text/html": [
       "<div>\n",
       "<style scoped>\n",
       "    .dataframe tbody tr th:only-of-type {\n",
       "        vertical-align: middle;\n",
       "    }\n",
       "\n",
       "    .dataframe tbody tr th {\n",
       "        vertical-align: top;\n",
       "    }\n",
       "\n",
       "    .dataframe thead th {\n",
       "        text-align: right;\n",
       "    }\n",
       "</style>\n",
       "<table border=\"1\" class=\"dataframe\">\n",
       "  <thead>\n",
       "    <tr style=\"text-align: right;\">\n",
       "      <th></th>\n",
       "      <th>test_grp</th>\n",
       "      <th>arppu</th>\n",
       "      <th>arpau</th>\n",
       "      <th>cr</th>\n",
       "      <th>cr_active</th>\n",
       "      <th>cr_math_active</th>\n",
       "    </tr>\n",
       "  </thead>\n",
       "  <tbody>\n",
       "    <tr>\n",
       "      <th>0</th>\n",
       "      <td>control</td>\n",
       "      <td>4540</td>\n",
       "      <td>10905</td>\n",
       "      <td>0.049180</td>\n",
       "      <td>0.110236</td>\n",
       "      <td>0.061224</td>\n",
       "    </tr>\n",
       "    <tr>\n",
       "      <th>1</th>\n",
       "      <td>pilot</td>\n",
       "      <td>11508</td>\n",
       "      <td>35364</td>\n",
       "      <td>0.108475</td>\n",
       "      <td>0.260417</td>\n",
       "      <td>0.095238</td>\n",
       "    </tr>\n",
       "  </tbody>\n",
       "</table>\n",
       "</div>"
      ],
      "text/plain": [
       "  test_grp  arppu  arpau        cr  cr_active  cr_math_active\n",
       "0  control   4540  10905  0.049180   0.110236        0.061224\n",
       "1    pilot  11508  35364  0.108475   0.260417        0.095238"
      ]
     },
     "metadata": {},
     "output_type": "display_data"
    }
   ],
   "source": [
    "# importing query results from Redash\n",
    "\n",
    "redash_results(55908)"
   ]
  },
  {
   "cell_type": "markdown",
   "id": "43f2ce7a-f06f-4afe-8bec-09410b7ff5fd",
   "metadata": {},
   "source": [
    "### Итого\n",
    "\n",
    "- Количество очень усердных студентов составляет 136 (либо 78 - тут имеет смысл уточнить у заказчика ТЗ) человек.\n",
    "\n",
    "- Видим, что конверсия в покупку в общем и в случае активных пользователей в тестовой группе в два раза выше, чем в контроле. Требуется дальнейший анализ для того, чтобы выяснить, значимы ли такие различия статистически."
   ]
  }
 ],
 "metadata": {
  "kernelspec": {
   "display_name": "Python 3 (ipykernel)",
   "language": "python",
   "name": "python3"
  },
  "language_info": {
   "codemirror_mode": {
    "name": "ipython",
    "version": 3
   },
   "file_extension": ".py",
   "mimetype": "text/x-python",
   "name": "python",
   "nbconvert_exporter": "python",
   "pygments_lexer": "ipython3",
   "version": "3.11.0"
  }
 },
 "nbformat": 4,
 "nbformat_minor": 5
}
